{
  "nbformat": 4,
  "nbformat_minor": 0,
  "metadata": {
    "colab": {
      "provenance": [],
      "authorship_tag": "ABX9TyNv9bsEzlwOPeTZMvNT0p2y",
      "include_colab_link": true
    },
    "kernelspec": {
      "name": "python3",
      "display_name": "Python 3"
    },
    "language_info": {
      "name": "python"
    }
  },
  "cells": [
    {
      "cell_type": "markdown",
      "metadata": {
        "id": "view-in-github",
        "colab_type": "text"
      },
      "source": [
        "<a href=\"https://colab.research.google.com/github/jfsalzmann/joffpype/blob/master/demo.ipynb\" target=\"_parent\"><img src=\"https://colab.research.google.com/assets/colab-badge.svg\" alt=\"Open In Colab\"/></a>"
      ]
    },
    {
      "cell_type": "code",
      "execution_count": 1,
      "metadata": {
        "colab": {
          "base_uri": "https://localhost:8080/"
        },
        "id": "0toC_D9_TPNn",
        "outputId": "4fdbca1a-5366-4ec7-c2d4-88682cef0d58"
      },
      "outputs": [
        {
          "output_type": "stream",
          "name": "stdout",
          "text": [
            "Looking in indexes: https://pypi.org/simple, https://us-python.pkg.dev/colab-wheels/public/simple/\n",
            "Requirement already satisfied: joffpype in /usr/local/lib/python3.7/dist-packages (0.0.1)\n"
          ]
        }
      ],
      "source": [
        "pip install joffpype\n"
      ]
    },
    {
      "cell_type": "code",
      "source": [
        "import joffpype\n",
        "from joffpype import pipes\n",
        "from joffpype.infix import _"
      ],
      "metadata": {
        "id": "eNVuUwtucZ_S"
      },
      "execution_count": 2,
      "outputs": []
    },
    {
      "cell_type": "code",
      "source": [
        "def a(x, y):\n",
        "    return 2*x + y\n",
        "\n",
        "@pipes\n",
        "def x2(x):\n",
        "    return x * 2\n",
        "\n",
        "def add(x):\n",
        "    return x\n",
        "\n",
        "@pipes\n",
        "def foo():\n",
        "    return(\n",
        "        5 >>\n",
        "        x2 >>\n",
        "        a(1) >>\n",
        "        print\n",
        "    )\n",
        "\n",
        "foo()\n",
        "\n",
        "@pipes\n",
        "def foo():\n",
        "      5 >>\\\n",
        "      x2 >>\\\n",
        "      a(1) >>\\\n",
        "      print\n",
        "\n",
        "foo()\n",
        "\n",
        "\n",
        "@pipes\n",
        "def foo():\n",
        "      5 >> x2 >> a(1) >> print\n",
        "\n",
        "foo()\n",
        "\n",
        "\n",
        "5 %_% x2 %_% print"
      ],
      "metadata": {
        "colab": {
          "base_uri": "https://localhost:8080/"
        },
        "id": "763tDcY0YDJs",
        "outputId": "176dc28b-7a76-4364-8853-8a8840c5ba04"
      },
      "execution_count": 3,
      "outputs": [
        {
          "output_type": "stream",
          "name": "stdout",
          "text": [
            "21\n",
            "21\n",
            "21\n",
            "10\n"
          ]
        }
      ]
    }
  ]
}