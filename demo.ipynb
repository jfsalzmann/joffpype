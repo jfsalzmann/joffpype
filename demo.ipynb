{
  "nbformat": 4,
  "nbformat_minor": 0,
  "metadata": {
    "colab": {
      "provenance": [],
      "authorship_tag": "ABX9TyOVIj5e63GjwZYWvEKLiJMd",
      "include_colab_link": true
    },
    "kernelspec": {
      "name": "python3",
      "display_name": "Python 3"
    },
    "language_info": {
      "name": "python"
    }
  },
  "cells": [
    {
      "cell_type": "markdown",
      "metadata": {
        "id": "view-in-github",
        "colab_type": "text"
      },
      "source": [
        "<a href=\"https://colab.research.google.com/github/jfsalzmann/joffpype/blob/master/demo.ipynb\" target=\"_parent\"><img src=\"https://colab.research.google.com/assets/colab-badge.svg\" alt=\"Open In Colab\"/></a>"
      ]
    },
    {
      "cell_type": "code",
      "execution_count": 1,
      "metadata": {
        "colab": {
          "base_uri": "https://localhost:8080/"
        },
        "id": "0toC_D9_TPNn",
        "outputId": "77f1a95f-119f-456c-ff98-00cd6ea17007"
      },
      "outputs": [
        {
          "output_type": "stream",
          "name": "stdout",
          "text": [
            "Looking in indexes: https://pypi.org/simple, https://us-python.pkg.dev/colab-wheels/public/simple/\n",
            "Requirement already satisfied: joffpype in /usr/local/lib/python3.7/dist-packages (0.0.1)\n"
          ]
        }
      ],
      "source": [
        "pip install joffpype"
      ]
    },
    {
      "cell_type": "code",
      "source": [
        "from joffpype import pipes\n",
        "from joffpype.infix import _"
      ],
      "metadata": {
        "id": "eNVuUwtucZ_S"
      },
      "execution_count": 2,
      "outputs": []
    },
    {
      "cell_type": "code",
      "source": [
        "def lintrans(x, y):\n",
        "    return 2*x + y\n",
        "\n",
        "def x2(x):\n",
        "    return x * 2\n",
        "\n",
        "@pipes\n",
        "def foo():\n",
        "    return(\n",
        "        5 >>\n",
        "        x2 >>\n",
        "        lintrans(1) >>\n",
        "        print\n",
        "    )\n",
        "\n",
        "foo()\n",
        "\n",
        "@pipes\n",
        "def foo():\n",
        "      5 >>\\\n",
        "      x2 >>\\\n",
        "      lintrans(1) >>\\\n",
        "      print\n",
        "\n",
        "foo()\n",
        "\n",
        "\n",
        "@pipes\n",
        "def foo():\n",
        "      5 >> x2 >> lintrans(1) >> print\n",
        "\n",
        "foo()\n",
        "\n",
        "\n",
        "5 %_% x2 %_% print"
      ],
      "metadata": {
        "colab": {
          "base_uri": "https://localhost:8080/"
        },
        "id": "763tDcY0YDJs",
        "outputId": "b046879f-95e3-4e88-eef2-ecfb82fef6a7"
      },
      "execution_count": 3,
      "outputs": [
        {
          "output_type": "stream",
          "name": "stdout",
          "text": [
            "21\n",
            "21\n",
            "21\n",
            "10\n"
          ]
        }
      ]
    }
  ]
}