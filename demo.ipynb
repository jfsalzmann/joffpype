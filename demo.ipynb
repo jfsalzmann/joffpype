{
  "nbformat": 4,
  "nbformat_minor": 0,
  "metadata": {
    "colab": {
      "provenance": [],
      "collapsed_sections": [],
      "authorship_tag": "ABX9TyP4GCFU6n6Tr7PFbvndgmIN",
      "include_colab_link": true
    },
    "kernelspec": {
      "name": "python3",
      "display_name": "Python 3"
    },
    "language_info": {
      "name": "python"
    }
  },
  "cells": [
    {
      "cell_type": "markdown",
      "metadata": {
        "id": "view-in-github",
        "colab_type": "text"
      },
      "source": [
        "<a href=\"https://colab.research.google.com/github/jfsalzmann/joffpype/blob/master/demo.ipynb\" target=\"_parent\"><img src=\"https://colab.research.google.com/assets/colab-badge.svg\" alt=\"Open In Colab\"/></a>"
      ]
    },
    {
      "cell_type": "code",
      "execution_count": 8,
      "metadata": {
        "colab": {
          "base_uri": "https://localhost:8080/"
        },
        "id": "0toC_D9_TPNn",
        "outputId": "a4845190-fd19-4873-ea5a-d9b493f6808a"
      },
      "outputs": [
        {
          "output_type": "stream",
          "name": "stdout",
          "text": [
            "Looking in indexes: https://pypi.org/simple, https://us-python.pkg.dev/colab-wheels/public/simple/\n",
            "Requirement already satisfied: joffpype in /usr/local/lib/python3.7/dist-packages (0.6.0)\n"
          ]
        }
      ],
      "source": [
        "pip install joffpype"
      ]
    },
    {
      "cell_type": "code",
      "source": [
        "#pip install -I joffpype==0.6.0"
      ],
      "metadata": {
        "id": "d6M2FWLIVAaK"
      },
      "execution_count": 9,
      "outputs": []
    },
    {
      "cell_type": "code",
      "source": [
        "from joffpype import pipes, _"
      ],
      "metadata": {
        "id": "eNVuUwtucZ_S"
      },
      "execution_count": 3,
      "outputs": []
    },
    {
      "cell_type": "code",
      "source": [
        "def lintrans(x, y):\n",
        "    return 2*x + y\n",
        "\n",
        "def lintrans_swapped(x, y):\n",
        "    return 2*y + x\n",
        "\n",
        "def x2(x):\n",
        "    return x * 2\n",
        "\n",
        "\n",
        "@pipes\n",
        "def foo(input):\n",
        "      input >> x2 >> lintrans(1) >> print\n",
        "\n",
        "foo(5)\n",
        "\n",
        "\n",
        "@pipes\n",
        "def foo(input):\n",
        "    (\n",
        "      input >>\n",
        "        x2 <<\n",
        "        lintrans_swapped(1) >>\n",
        "        print\n",
        "    )\n",
        "\n",
        "foo(5)\n",
        "\n",
        "\n",
        "@pipes\n",
        "def foo(input):\n",
        "    input >>\\\n",
        "      x2() >>\\\n",
        "      lintrans(1) >>\\\n",
        "      print\n",
        "\n",
        "foo(5)\n",
        "\n",
        "\n",
        "@pipes\n",
        "def foo(input):\n",
        "      input >> __ + __ >> lintrans(__,1) >> print()\n",
        "\n",
        "foo(5)\n",
        "\n",
        "\n",
        "input = 5\n",
        "\n",
        "input %_% x2 %_% print\n",
        "input |_| x2 |_| print"
      ],
      "metadata": {
        "colab": {
          "base_uri": "https://localhost:8080/"
        },
        "id": "763tDcY0YDJs",
        "outputId": "128717b6-8115-4827-b555-a893c6e7288f"
      },
      "execution_count": 6,
      "outputs": [
        {
          "output_type": "stream",
          "name": "stdout",
          "text": [
            "21\n",
            "21\n",
            "21\n",
            "21\n",
            "10\n",
            "10\n"
          ]
        }
      ]
    }
  ]
}