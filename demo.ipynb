{
  "nbformat": 4,
  "nbformat_minor": 0,
  "metadata": {
    "colab": {
      "provenance": [],
      "authorship_tag": "ABX9TyNu6bL4S5LlNzPb3YywpiK7",
      "include_colab_link": true
    },
    "kernelspec": {
      "name": "python3",
      "display_name": "Python 3"
    },
    "language_info": {
      "name": "python"
    }
  },
  "cells": [
    {
      "cell_type": "markdown",
      "metadata": {
        "id": "view-in-github",
        "colab_type": "text"
      },
      "source": [
        "<a href=\"https://colab.research.google.com/github/jfsalzmann/joffpype/blob/master/demo.ipynb\" target=\"_parent\"><img src=\"https://colab.research.google.com/assets/colab-badge.svg\" alt=\"Open In Colab\"/></a>"
      ]
    },
    {
      "cell_type": "code",
      "execution_count": 1,
      "metadata": {
        "colab": {
          "base_uri": "https://localhost:8080/"
        },
        "id": "0toC_D9_TPNn",
        "outputId": "7ade753a-c59f-4084-a9ba-e509952def4b"
      },
      "outputs": [
        {
          "output_type": "stream",
          "name": "stdout",
          "text": [
            "Looking in indexes: https://pypi.org/simple, https://us-python.pkg.dev/colab-wheels/public/simple/\n",
            "Collecting joffpype\n",
            "  Downloading joffpype-0.0.2-py3-none-any.whl (8.5 kB)\n",
            "Installing collected packages: joffpype\n",
            "Successfully installed joffpype-0.0.2\n"
          ]
        }
      ],
      "source": [
        "pip install joffpype"
      ]
    },
    {
      "cell_type": "code",
      "source": [
        "from joffpype import pipes, _"
      ],
      "metadata": {
        "id": "eNVuUwtucZ_S"
      },
      "execution_count": 2,
      "outputs": []
    },
    {
      "cell_type": "code",
      "source": [
        "def lintrans(x, y):\n",
        "    return 2*x + y\n",
        "\n",
        "def x2(x):\n",
        "    return x * 2\n",
        "\n",
        "@pipes\n",
        "def foo():\n",
        "    return(\n",
        "        5 >>\n",
        "        x2 >>\n",
        "        lintrans(1) >>\n",
        "        print\n",
        "    )\n",
        "\n",
        "foo()\n",
        "\n",
        "@pipes\n",
        "def foo():\n",
        "      5 >>\\\n",
        "      x2 >>\\\n",
        "      lintrans(1) >>\\\n",
        "      print\n",
        "\n",
        "foo()\n",
        "\n",
        "\n",
        "@pipes\n",
        "def foo():\n",
        "      5 >> x2 >> lintrans(1) >> print\n",
        "\n",
        "foo()\n",
        "\n",
        "\n",
        "5 %_% x2 %_% print\n",
        "5 |_| x2 |_| print"
      ],
      "metadata": {
        "colab": {
          "base_uri": "https://localhost:8080/"
        },
        "id": "763tDcY0YDJs",
        "outputId": "48d52c60-b7f9-49f5-9b3f-47da8476af74"
      },
      "execution_count": 3,
      "outputs": [
        {
          "output_type": "stream",
          "name": "stdout",
          "text": [
            "21\n",
            "21\n",
            "21\n",
            "10\n",
            "10\n"
          ]
        }
      ]
    }
  ]
}