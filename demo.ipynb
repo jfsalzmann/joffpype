{
  "nbformat": 4,
  "nbformat_minor": 0,
  "metadata": {
    "colab": {
      "provenance": [],
      "collapsed_sections": [],
      "authorship_tag": "ABX9TyNdTxaEeGeH22/wgIlLA1Nv",
      "include_colab_link": true
    },
    "kernelspec": {
      "name": "python3",
      "display_name": "Python 3"
    },
    "language_info": {
      "name": "python"
    }
  },
  "cells": [
    {
      "cell_type": "markdown",
      "metadata": {
        "id": "view-in-github",
        "colab_type": "text"
      },
      "source": [
        "<a href=\"https://colab.research.google.com/github/jfsalzmann/joffpype/blob/master/demo.ipynb\" target=\"_parent\"><img src=\"https://colab.research.google.com/assets/colab-badge.svg\" alt=\"Open In Colab\"/></a>"
      ]
    },
    {
      "cell_type": "code",
      "execution_count": 1,
      "metadata": {
        "colab": {
          "base_uri": "https://localhost:8080/"
        },
        "id": "0toC_D9_TPNn",
        "outputId": "53fa4d91-832d-4884-8a02-acf332a1cfc5"
      },
      "outputs": [
        {
          "output_type": "stream",
          "name": "stdout",
          "text": [
            "Looking in indexes: https://pypi.org/simple, https://us-python.pkg.dev/colab-wheels/public/simple/\n",
            "Collecting joffpype\n",
            "  Downloading joffpype-0.1.0-py3-none-any.whl (8.5 kB)\n",
            "Installing collected packages: joffpype\n",
            "Successfully installed joffpype-0.1.0\n"
          ]
        }
      ],
      "source": [
        "pip install joffpype"
      ]
    },
    {
      "cell_type": "code",
      "source": [
        "from joffpype import pipes, _"
      ],
      "metadata": {
        "id": "eNVuUwtucZ_S"
      },
      "execution_count": 2,
      "outputs": []
    },
    {
      "cell_type": "code",
      "source": [
        "def lintrans(x, y):\n",
        "    return 2*x + y\n",
        "\n",
        "def x2(x):\n",
        "    return x * 2\n",
        "\n",
        "\n",
        "@pipes\n",
        "def foo():\n",
        "      5 >> x2 >> lintrans(1) >> print\n",
        "\n",
        "foo()\n",
        "\n",
        "\n",
        "@pipes\n",
        "def foo():\n",
        "    return(\n",
        "        5 >>\n",
        "        x2 >>\n",
        "        lintrans(1) >>\n",
        "        print\n",
        "    )\n",
        "\n",
        "foo()\n",
        "\n",
        "\n",
        "@pipes\n",
        "def foo():\n",
        "      5 >>\\\n",
        "      x2() >>\\\n",
        "      lintrans(1) >>\\\n",
        "      print\n",
        "\n",
        "foo()\n",
        "\n",
        "\n",
        "@pipes\n",
        "def foo():\n",
        "      5 >> __ + __ >> lintrans(__,1) >> print\n",
        "\n",
        "foo()\n",
        "\n",
        "\n",
        "\n",
        "5 %_% x2 %_% print\n",
        "5 |_| x2 |_| print"
      ],
      "metadata": {
        "colab": {
          "base_uri": "https://localhost:8080/"
        },
        "id": "763tDcY0YDJs",
        "outputId": "a0f3ca5c-85f9-4f10-a63e-50673dbf0e80"
      },
      "execution_count": 6,
      "outputs": [
        {
          "output_type": "stream",
          "name": "stdout",
          "text": [
            "21\n",
            "21\n",
            "21\n",
            "21\n",
            "10\n",
            "10\n"
          ]
        }
      ]
    }
  ]
}